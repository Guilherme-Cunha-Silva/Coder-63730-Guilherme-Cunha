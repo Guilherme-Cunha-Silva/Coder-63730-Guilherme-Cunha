{
 "cells": [
  {
   "cell_type": "markdown",
   "metadata": {},
   "source": [
    "Introdução ao NUMPY"
   ]
  },
  {
   "cell_type": "code",
   "execution_count": null,
   "metadata": {},
   "outputs": [],
   "source": [
    "# pip install numpy"
   ]
  },
  {
   "cell_type": "code",
   "execution_count": null,
   "metadata": {},
   "outputs": [],
   "source": [
    "##Importação\n",
    "import numpy as np"
   ]
  },
  {
   "cell_type": "code",
   "execution_count": null,
   "metadata": {},
   "outputs": [],
   "source": [
    "##Arrays - construção\n",
    "#escalar\n",
    "print('Escalar\\n',5,'\\n')\n",
    "\n",
    "#vetor linha\n",
    "print('Vetor linha\\n', np.array([1,2,3]),'\\n')\n",
    "\n",
    "#vetor coluna\n",
    "print('Vetor coluna\\n', np.array([[1,2,3]]),'\\n')\n",
    "\n",
    "#matriz\n",
    "print('Matriz\\n', np.array([[1,2,3],[4,5,6]]), '\\n')\n",
    "\n",
    "#tensor\n",
    "print('Tensor\\n', np.array([[[1,2,3],[4,5,6]],[[7,8,9],[10,11,12]]]))\n"
   ]
  },
  {
   "cell_type": "code",
   "execution_count": null,
   "metadata": {},
   "outputs": [],
   "source": [
    "##Arrays - atributos\n",
    "#dtype\n",
    "array_matriz_1=np.array([[1,2,3],[4,5,6]])\n",
    "print('Tipo matriz 1: ',array_matriz_1.dtype)\n",
    "array_matriz_2=np.array([[1.0,2,3,4],[4,5,6,4],[10,8,4,20]])\n",
    "print('Tipo matriz 2: ',array_matriz_2.dtype)\n",
    "#shape\n",
    "print('dimensão matriz 1: ',array_matriz_1.shape)\n",
    "print('dimensão matriz 2: ',array_matriz_2.shape)"
   ]
  },
  {
   "cell_type": "code",
   "execution_count": null,
   "metadata": {},
   "outputs": [],
   "source": [
    "type(array_matriz_1)"
   ]
  },
  {
   "cell_type": "code",
   "execution_count": null,
   "metadata": {},
   "outputs": [],
   "source": [
    "##Arrays - construção padronizada\n",
    "#arrays de uns\n",
    "print('arrays de uns\\n', np.ones((3,3)), '\\n')\n",
    "\n",
    "#arrays de zeros\n",
    "print('arrays de zeros\\n', np.zeros((5,2)), '\\n')\n",
    "\n",
    "#arrays com números identicos\n",
    "print('arrays de valores identicos\\n', np.full((2,10),51), '\\n')\n"
   ]
  },
  {
   "cell_type": "code",
   "execution_count": null,
   "metadata": {},
   "outputs": [],
   "source": [
    "##Arrays - aleatórios\n",
    "#Rand\n",
    "print(np.random.rand(2,3).round(3))\n",
    "#Randint\n",
    "np.random.randint(0,10,(3,3))"
   ]
  },
  {
   "cell_type": "code",
   "execution_count": null,
   "metadata": {},
   "outputs": [],
   "source": [
    "##Arrays - indexação\n",
    "np.random.seed(2)\n",
    "matriz=np.random.randint(0,100,(4,4))\n",
    "matriz"
   ]
  },
  {
   "cell_type": "code",
   "execution_count": null,
   "metadata": {},
   "outputs": [],
   "source": [
    "matriz[:,0]"
   ]
  },
  {
   "cell_type": "code",
   "execution_count": null,
   "metadata": {},
   "outputs": [],
   "source": [
    "##Arrays - operações\n",
    "np.linalg.det(matriz)"
   ]
  },
  {
   "cell_type": "code",
   "execution_count": null,
   "metadata": {},
   "outputs": [],
   "source": [
    "matriz"
   ]
  },
  {
   "cell_type": "code",
   "execution_count": null,
   "metadata": {},
   "outputs": [],
   "source": [
    "##Arrays - Where\n",
    "teste=np.where(matriz<40, 'reprovado', \n",
    "               np.where(matriz<60, 'recuperação','Aprovado' ))\n",
    "teste"
   ]
  },
  {
   "cell_type": "markdown",
   "metadata": {},
   "source": [
    "Introdução ao Pandas"
   ]
  },
  {
   "cell_type": "code",
   "execution_count": null,
   "metadata": {},
   "outputs": [],
   "source": [
    "# pip install pandas"
   ]
  },
  {
   "cell_type": "code",
   "execution_count": null,
   "metadata": {},
   "outputs": [],
   "source": [
    "import pandas as pd"
   ]
  },
  {
   "cell_type": "code",
   "execution_count": null,
   "metadata": {},
   "outputs": [],
   "source": [
    "#Tipo Series\n",
    "pd.Series(np.array([1,2,3]))"
   ]
  },
  {
   "cell_type": "code",
   "execution_count": null,
   "metadata": {},
   "outputs": [],
   "source": [
    "#Tipo DataFrame\n",
    "pd.DataFrame(matriz, columns=['portugues', 'matematica', 'ciencias', 'geografia'])"
   ]
  }
 ],
 "metadata": {
  "kernelspec": {
   "display_name": "Python 3",
   "language": "python",
   "name": "python3"
  },
  "language_info": {
   "codemirror_mode": {
    "name": "ipython",
    "version": 3
   },
   "file_extension": ".py",
   "mimetype": "text/x-python",
   "name": "python",
   "nbconvert_exporter": "python",
   "pygments_lexer": "ipython3",
   "version": "3.12.4"
  }
 },
 "nbformat": 4,
 "nbformat_minor": 2
}
