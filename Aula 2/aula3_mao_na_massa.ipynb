{
 "cells": [
  {
   "cell_type": "markdown",
   "metadata": {},
   "source": [
    "#### 1. Escreva um programa que receba um número inteiro e exiba se ele é par ou ímpar."
   ]
  },
  {
   "cell_type": "code",
   "execution_count": 2,
   "metadata": {},
   "outputs": [
    {
     "name": "stdout",
     "output_type": "stream",
     "text": [
      "Ímpar\n"
     ]
    }
   ],
   "source": [
    "num = int(input(\"Digite um número inteiro: \"))\n",
    "if num % 2 == 0:\n",
    "    print(\"Par\")\n",
    "else:\n",
    "    print(\"Ímpar\")"
   ]
  },
  {
   "cell_type": "markdown",
   "metadata": {},
   "source": [
    "#### 2. Escreva um programa em Python que solicita ao usuário uma frase e, em seguida, exibe cada palavra e seu número de caracteres."
   ]
  },
  {
   "cell_type": "code",
   "execution_count": 3,
   "metadata": {},
   "outputs": [
    {
     "name": "stdout",
     "output_type": "stream",
     "text": [
      "Guilherme 9\n",
      "da 2\n",
      "Cunha 5\n",
      "e 1\n",
      "Silva 5\n"
     ]
    }
   ],
   "source": [
    "frase = input(\"Digite uma frase: \")\n",
    "\n",
    "palavras = frase.split()  \n",
    "\n",
    "for palavra in palavras:\n",
    "    tamanho = len(palavra)\n",
    "    print(palavra, tamanho)"
   ]
  },
  {
   "cell_type": "markdown",
   "metadata": {},
   "source": [
    "#### 3. Crie um programa em Python que solicita ao usuário uma senha numérica de 4 dígitos. O programa deve repetir essa solicitação até que o usuário informe a senha correta (1234)."
   ]
  },
  {
   "cell_type": "code",
   "execution_count": 5,
   "metadata": {},
   "outputs": [
    {
     "name": "stdout",
     "output_type": "stream",
     "text": [
      "Acesso negado\n"
     ]
    }
   ],
   "source": [
    "senha = int(input('Digite sua senha de 4 digitos numéricos:'))\n",
    "\n",
    "while senha == 2729:\n",
    "    print('Acesso liberado')\n",
    "print('Acesso negado')"
   ]
  },
  {
   "cell_type": "code",
   "execution_count": 6,
   "metadata": {},
   "outputs": [
    {
     "name": "stdout",
     "output_type": "stream",
     "text": [
      "Senha correta!\n"
     ]
    }
   ],
   "source": [
    "senha = input(\"Digite a senha numérica de 4 dígitos: \")\n",
    "while senha != \"1234\":\n",
    "    senha = input(\"Senha incorreta. Digite a senha numérica de 4 dígitos novamente: \")\n",
    "print(\"Senha correta!\")"
   ]
  },
  {
   "cell_type": "markdown",
   "metadata": {},
   "source": [
    "#### 4. Escreva um programa que dado um valor n calcula o fatorial de n."
   ]
  },
  {
   "cell_type": "code",
   "execution_count": 12,
   "metadata": {},
   "outputs": [
    {
     "name": "stdout",
     "output_type": "stream",
     "text": [
      "O fatorial de 4 é 24\n"
     ]
    }
   ],
   "source": [
    "n = int(input(\"Digite um número inteiro: \"))\n",
    "fatorial = 1\n",
    "\n",
    "for i in range(1, n+1):\n",
    "    fatorial *= i\n",
    "\n",
    "print(\"O fatorial de\", n, \"é\", fatorial)"
   ]
  },
  {
   "cell_type": "markdown",
   "metadata": {},
   "source": [
    "#### 5. Crie um dicionário com os dados da tabela ao lado, crie um loop para exibir os valores. \n"
   ]
  },
  {
   "cell_type": "code",
   "execution_count": 7,
   "metadata": {},
   "outputs": [
    {
     "data": {
      "text/plain": [
       "{'janeiro': 232, 'fevereiro': 321, 'junho': 589, 'julho': 547}"
      ]
     },
     "execution_count": 7,
     "metadata": {},
     "output_type": "execute_result"
    }
   ],
   "source": [
    "dados = {\"janeiro\": 232,\n",
    "         \"fevereiro\": 321,\n",
    "         \"junho\": 589,\n",
    "         \"julho\": 547}\n",
    "\n",
    "for mes, quantidade in dados.items():\n",
    "    print(f\"Mês: {mes}, Quantidade: {quantidade}\")"
   ]
  },
  {
   "cell_type": "code",
   "execution_count": null,
   "metadata": {},
   "outputs": [],
   "source": []
  }
 ],
 "metadata": {
  "kernelspec": {
   "display_name": "Python 3",
   "language": "python",
   "name": "python3"
  },
  "language_info": {
   "codemirror_mode": {
    "name": "ipython",
    "version": 3
   },
   "file_extension": ".py",
   "mimetype": "text/x-python",
   "name": "python",
   "nbconvert_exporter": "python",
   "pygments_lexer": "ipython3",
   "version": "3.13.0"
  }
 },
 "nbformat": 4,
 "nbformat_minor": 2
}
