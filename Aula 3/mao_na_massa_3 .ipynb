{
 "cells": [
  {
   "cell_type": "markdown",
   "metadata": {},
   "source": [
    "Crie uma função lambda chamada eh_multiplo_dez() que retorna True se um determinado número é múltiplo de 10 e False caso contrário."
   ]
  },
  {
   "cell_type": "code",
   "execution_count": 4,
   "metadata": {},
   "outputs": [
    {
     "name": "stdout",
     "output_type": "stream",
     "text": [
      "O número 10 é múltiplo de 10? True\n",
      "O número 20 é múltiplo de 10? True\n",
      "O número 30 é múltiplo de 10? True\n",
      "O número 40 é múltiplo de 10? True\n",
      "O número 55 é múltiplo de 10? False\n"
     ]
    }
   ],
   "source": [
    "# Função lambda para verificar se um número é múltiplo de 10\n",
    "eh_multiplo_dez = lambda x: x % 10 == 0\n",
    "\n",
    "# Solicita a entrada do usuário\n",
    "numeros = input(\"Digite uma lista de números separados por espaço: \")\n",
    "\n",
    "# Converte a entrada em uma lista de inteiros\n",
    "lista_numeros = [int(num) for num in numeros.split()]\n",
    "\n",
    "# Verifica se cada número é múltiplo de 10 e armazena os resultados\n",
    "resultados = []\n",
    "for num in lista_numeros:\n",
    "    resultados.append(eh_multiplo_dez(num))\n",
    "\n",
    "# Imprime os resultados\n",
    "for i in range(len(lista_numeros)):\n",
    "    print(f\"O número {lista_numeros[i]} é múltiplo de 10? {resultados[i]}\")\n"
   ]
  },
  {
   "cell_type": "markdown",
   "metadata": {},
   "source": [
    "Crie uma função primeiro_nome que recebe uma string nome completo e retorna somente o primeiro nome. Em seguida, use a função map para aplicar a função a uma lista de strings:"
   ]
  },
  {
   "cell_type": "code",
   "execution_count": 12,
   "metadata": {},
   "outputs": [
    {
     "name": "stdout",
     "output_type": "stream",
     "text": [
      "['João', 'Maria', 'Ana', 'Ana']\n"
     ]
    }
   ],
   "source": [
    "# Função que retorna o primeiro nome de uma string de nome completo\n",
    "def primeiro_nome(nome_completo):\n",
    "    return nome_completo.split()[0]  # Divide a string e retorna o primeiro elemento\n",
    "\n",
    "\n",
    "# Lista de nomes completos\n",
    "nomes = ['João Carlos', 'Maria Eduarda', 'Ana Rute', 'Ana Clara']\n",
    "\n",
    "\n",
    "primeiros_nomes = list(map(primeiro_nome,nomes))\n",
    "print(primeiros_nomes)\n"
   ]
  },
  {
   "cell_type": "markdown",
   "metadata": {},
   "source": [
    "Escreva uma função que receba uma data no formato dd/mm/aaaa e retorne o dia da semana correspondente (Monday, Tuesday, etc.)."
   ]
  },
  {
   "cell_type": "code",
   "execution_count": 5,
   "metadata": {},
   "outputs": [
    {
     "name": "stdout",
     "output_type": "stream",
     "text": [
      "O dia do seu aniversário é: 27\n",
      "O dia da semana é: Sunday\n"
     ]
    }
   ],
   "source": [
    "from datetime  import datetime\n",
    "data = input('insira sua data de aniversário no formato dd/mm/aaaa')\n",
    "data_aniversario = datetime.strptime(data, '%d/%m/%Y')\n",
    "dia = data_aniversario.day\n",
    "\n",
    "# Obtém o dia da semana\n",
    "dia_da_semana = data_aniversario.strftime('%A')  # %A retorna o nome completo do dia da semana\n",
    "\n",
    "# Exibe o dia e o dia da semana\n",
    "print(f\"O dia do seu aniversário é: {dia}\")\n",
    "print(f\"O dia da semana é: {dia_da_semana}\")"
   ]
  },
  {
   "cell_type": "code",
   "execution_count": 11,
   "metadata": {},
   "outputs": [
    {
     "name": "stdout",
     "output_type": "stream",
     "text": [
      "O dia do seu aniversário é: 24\n",
      "O dia da semana é: Thursday\n"
     ]
    }
   ],
   "source": [
    "from datetime import datetime\n",
    "\n",
    "# Obtém a data atual\n",
    "data_atual = datetime.now()\n",
    "\n",
    "# Supondo que o aniversário seja hoje, usando a data atual\n",
    "data = data_atual\n",
    "\n",
    "# Obtém o dia e o dia da semana\n",
    "dia = data_aniversario.day\n",
    "dia_da_semana = data.strftime('%A')  # %A retorna o nome completo do dia da semana\n",
    "\n",
    "# Exibe o dia e o dia da semana\n",
    "print(f\"O dia do seu aniversário é: {dia}\")\n",
    "print(f\"O dia da semana é: {dia_da_semana}\")\n"
   ]
  }
 ],
 "metadata": {
  "kernelspec": {
   "display_name": "Python 3",
   "language": "python",
   "name": "python3"
  },
  "language_info": {
   "codemirror_mode": {
    "name": "ipython",
    "version": 3
   },
   "file_extension": ".py",
   "mimetype": "text/x-python",
   "name": "python",
   "nbconvert_exporter": "python",
   "pygments_lexer": "ipython3",
   "version": "3.13.0"
  }
 },
 "nbformat": 4,
 "nbformat_minor": 2
}
